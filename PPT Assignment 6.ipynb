{
 "cells": [
  {
   "cell_type": "code",
   "execution_count": null,
   "id": "1e54fe63",
   "metadata": {},
   "outputs": [],
   "source": [
    " **Question 1**\n",
    "\n",
    "A permutation perm of n + 1 integers of all the integers in the range [0, n] can be represented as a string s of length n \n",
    "where:\n",
    "\n",
    "- s[i] == 'I' if perm[i] < perm[i + 1], and\n",
    "- s[i] == 'D' if perm[i] > perm[i + 1].\n",
    "\n",
    "Given a string s, reconstruct the permutation perm and return it. If there are multiple valid permutations perm, return \n",
    "**any of them**.\n",
    "\n",
    "**Example 1:**\n",
    "\n",
    "**Input:** s = \"IDID\"\n",
    "\n",
    "**Output:**\n",
    "\n",
    "[0,4,1,3,2]"
   ]
  },
  {
   "cell_type": "code",
   "execution_count": 1,
   "id": "6b44122c",
   "metadata": {},
   "outputs": [
    {
     "name": "stdout",
     "output_type": "stream",
     "text": [
      "[0, 4, 1, 3, 2]\n"
     ]
    }
   ],
   "source": [
    "    def diStringMatch(s):\n",
    "        ans = []\n",
    "        low = 0\n",
    "        high = len(s)\n",
    "        for c in s:\n",
    "            if c == 'I':\n",
    "                ans.append(low)\n",
    "                low+=1\n",
    "            else:\n",
    "                ans.append(high)\n",
    "                high-=1\n",
    "        return ans + [high]\n",
    "    print(diStringMatch(\"IDID\"))"
   ]
  },
  {
   "cell_type": "code",
   "execution_count": null,
   "id": "aac5d9c3",
   "metadata": {},
   "outputs": [],
   "source": [
    " **Question 2**\n",
    "\n",
    "You are given an m x n integer matrix matrix with the following two properties:\n",
    "\n",
    "- Each row is sorted in non-decreasing order.\n",
    "- The first integer of each row is greater than the last integer of the previous row.\n",
    "\n",
    "Given an integer target, return true *if* target *is in* matrix *or* false *otherwise*.\n",
    "\n",
    "You must write a solution in O(log(m * n)) time complexity.\n",
    "\n",
    "**Example 1:**\n",
    "\n",
    "**Input:** matrix = [[1,3,5,7],[10,11,16,20],[23,30,34,60]], target = 3\n",
    "\n",
    "**Output:** true"
   ]
  },
  {
   "cell_type": "code",
   "execution_count": 2,
   "id": "89f9bb39",
   "metadata": {},
   "outputs": [
    {
     "name": "stdout",
     "output_type": "stream",
     "text": [
      "True\n"
     ]
    }
   ],
   "source": [
    "    def searchMatrix(matrix, target):\n",
    "        rows, cols = len(matrix), len(matrix[0])\n",
    "        row = 0\n",
    "        for i in range(rows):\n",
    "            if matrix[i][0] > target:\n",
    "                row = i - 1\n",
    "                break\n",
    "        else:\n",
    "            row = rows - 1\n",
    "            \n",
    "        for j in range(cols):\n",
    "            if matrix[row][j] == target:\n",
    "                return True\n",
    "        return False\n",
    "    print(searchMatrix([[1,3,5,7],[10,11,16,20],[23,30,34,60]],3))"
   ]
  },
  {
   "cell_type": "code",
   "execution_count": null,
   "id": "c68c12de",
   "metadata": {},
   "outputs": [],
   "source": [
    " **Question 3**\n",
    "\n",
    "Given an array of integers arr, return *true if and only if it is a valid mountain array*.\n",
    "\n",
    "Recall that arr is a mountain array if and only if:\n",
    "\n",
    "- arr.length >= 3\n",
    "- There exists some i with 0 < i < arr.length - 1 such that:\n",
    "    - arr[0] < arr[1] < ... < arr[i - 1] < arr[i]\n",
    "    - arr[i] > arr[i + 1] > ... > arr[arr.length - 1]\n",
    "**Example 1:**\n",
    "\n",
    "**Input:** arr = [2,1]\n",
    "\n",
    "**Output:**\n",
    "\n",
    "false"
   ]
  },
  {
   "cell_type": "code",
   "execution_count": 1,
   "id": "342db37a",
   "metadata": {},
   "outputs": [
    {
     "name": "stdout",
     "output_type": "stream",
     "text": [
      "False\n"
     ]
    }
   ],
   "source": [
    "    def validMountainArray(arr):\n",
    "        if len(arr) == 1:\n",
    "            return False\n",
    "        increasing, previous = None, arr[0]\n",
    "\n",
    "        for e in arr[1:]:\n",
    "            if previous == e:\n",
    "                return False\n",
    "            if increasing is None:\n",
    "                if e <= previous:\n",
    "                    return False\n",
    "                increasing = True\n",
    "            elif increasing and previous > e:\n",
    "                increasing = False\n",
    "            elif not increasing and previous < e:\n",
    "                return False\n",
    "            previous = e\n",
    "\n",
    "        return not increasing\n",
    "    print(validMountainArray([2,1]))"
   ]
  },
  {
   "cell_type": "code",
   "execution_count": null,
   "id": "e993e0fe",
   "metadata": {},
   "outputs": [],
   "source": [
    "**Question 4**\n",
    "\n",
    "Given a binary array nums, return *the maximum length of a contiguous subarray with an equal number of* 0 *and* 1.\n",
    "\n",
    "**Example 1:**\n",
    "\n",
    "**Input:** nums = [0,1]\n",
    "\n",
    "**Output:** 2\n",
    "\n",
    "**Explanation:**\n",
    "\n",
    "[0, 1] is the longest contiguous subarray with an equal number of 0 and 1."
   ]
  },
  {
   "cell_type": "code",
   "execution_count": 3,
   "id": "23a1b004",
   "metadata": {},
   "outputs": [
    {
     "name": "stdout",
     "output_type": "stream",
     "text": [
      "2\n"
     ]
    }
   ],
   "source": [
    "    def findMaxLength(nums):\n",
    "        dict={}\n",
    "        presum=0\n",
    "        res=0\n",
    "        for i in range(len(nums)):\n",
    "            if nums[i]==0:\n",
    "                presum+=-1\n",
    "            else:\n",
    "                presum+=1\n",
    "            if presum ==0:\n",
    "                res=i+1\n",
    "            if presum not in dict:\n",
    "                dict[presum]=i\n",
    "            elif presum in dict:\n",
    "                res=max(res,i-dict[presum])\n",
    "        return res\n",
    "    print(findMaxLength([0,1]))"
   ]
  },
  {
   "cell_type": "code",
   "execution_count": null,
   "id": "49f1ad31",
   "metadata": {},
   "outputs": [],
   "source": [
    " **Question 5**\n",
    "\n",
    "The **product sum** of two equal-length arrays a and b is equal to the sum of a[i] * b[i] for all 0 <= i < a.length \n",
    "(**0-indexed**).\n",
    "\n",
    "- For example, if a = [1,2,3,4] and b = [5,2,3,1], the **product sum** would be 1*5 + 2*2 + 3*3 + 4*1 = 22.\n",
    "\n",
    "Given two arrays nums1 and nums2 of length n, return *the **minimum product sum** if you are allowed to **rearrange**\n",
    "the **order** of the elements in* nums1.\n",
    "\n",
    "**Example 1:**\n",
    "\n",
    "**Input:** nums1 = [5,3,4,2], nums2 = [4,2,2,5]\n",
    "\n",
    "**Output:** 40\n",
    "\n",
    "**Explanation:**\n",
    "\n",
    "We can rearrange nums1 to become [3,5,4,2]. The product sum of [3,5,4,2] and [4,2,2,5] is 3*4 + 5*2 + 4*2 + 2*5 = 40\n"
   ]
  },
  {
   "cell_type": "code",
   "execution_count": 4,
   "id": "7ffec452",
   "metadata": {},
   "outputs": [
    {
     "name": "stdout",
     "output_type": "stream",
     "text": [
      "40\n"
     ]
    }
   ],
   "source": [
    "def minValue(A, B, n):\n",
    "    A.sort()\n",
    "    B.sort()\n",
    "    result = 0\n",
    "    for i in range(n):\n",
    "        result += (A[i] * B[n - i - 1])\n",
    " \n",
    "    return result\n",
    "print(minValue([5,3,4,2],[4,2,2,5],4))"
   ]
  },
  {
   "cell_type": "code",
   "execution_count": null,
   "id": "db347463",
   "metadata": {},
   "outputs": [],
   "source": [
    "**Question 6**\n",
    "\n",
    "An integer array original is transformed into a **doubled** array changed by appending **twice the value** of every element\n",
    "in original, and then randomly **shuffling** the resulting array.\n",
    "\n",
    "Given an array changed, return original *if* changed *is a **doubled** array. If* changed *is not a **doubled** array, \n",
    "return an empty array. The elements in* original *may be returned in **any** order*.\n",
    "\n",
    "**Example 1:**\n",
    "\n",
    "**Input:** changed = [1,3,4,2,6,8]\n",
    "\n",
    "**Output:** [1,3,4]\n",
    "\n",
    "**Explanation:** One possible original array could be [1,3,4]:\n",
    "\n",
    "- Twice the value of 1 is 1 * 2 = 2.\n",
    "- Twice the value of 3 is 3 * 2 = 6.\n",
    "- Twice the value of 4 is 4 * 2 = 8.\n",
    "\n",
    "Other original arrays could be [4,3,1] or [3,1,4]."
   ]
  },
  {
   "cell_type": "code",
   "execution_count": 5,
   "id": "60410a81",
   "metadata": {},
   "outputs": [],
   "source": [
    "    def findOriginalArray(changed):\n",
    "        if len(changed) % 2 == 1:\n",
    "            return []\n",
    "        data = Counter(changed)\n",
    "        result = []\n",
    "        for k in sorted(data):\n",
    "            if data[k] < 0:\n",
    "                return []\n",
    "            elif k == 0:\n",
    "                x, y = divmod(data[k], 2)\n",
    "                if y == 1:\n",
    "                    return []\n",
    "                result += [0] * x\n",
    "            elif data[k] > 0:\n",
    "                value = k * 2\n",
    "                if data[value] == 0:\n",
    "                    return []\n",
    "                min_value = min(value, data[k])\n",
    "                result += [k] * min_value\n",
    "                data[k] -= min_value\n",
    "                data[value] -= min_value\n",
    "            return result\n",
    "        print(findOriginalArray([1,3,4,2,6,8]))"
   ]
  },
  {
   "cell_type": "code",
   "execution_count": null,
   "id": "ec32f845",
   "metadata": {},
   "outputs": [],
   "source": [
    " **Question 7**\n",
    "\n",
    "Given a positive integer n, generate an n x n matrix filled with elements from 1 to n2 in spiral order.\n",
    "\n",
    "**Example 1:**\n",
    "**Input:** n = 3\n",
    "\n",
    "**Output:** [[1,2,3],[8,9,4],[7,6,5]]"
   ]
  },
  {
   "cell_type": "code",
   "execution_count": 6,
   "id": "f9f5cd36",
   "metadata": {},
   "outputs": [],
   "source": [
    "    def generateMatrix(n) :\n",
    "        if not n:\n",
    "            return []\n",
    "        matrix = [[0 for _ in range(n)] for _ in range(n)]\n",
    "        left, right, top, bottom, num = 0, n-1, 0, n-1, 1\n",
    "        while left <= right and top <= bottom:\n",
    "            for i in range(left, right+1):\n",
    "                matrix[top][i] = num \n",
    "                num += 1\n",
    "            top += 1\n",
    "            for i in range(top, bottom+1):\n",
    "                matrix[i][right] = num\n",
    "                num += 1\n",
    "            right -= 1\n",
    "            if top <= bottom:\n",
    "                for i in range(right, left-1, -1):\n",
    "                    matrix[bottom][i] = num\n",
    "                    num += 1\n",
    "                bottom -= 1\n",
    "            if left <= right:\n",
    "                for i in range(bottom, top-1, -1):\n",
    "                    matrix[i][left] = num\n",
    "                    num += 1\n",
    "                left += 1\n",
    "            return matrix\n",
    "        print(generateMatrix([[1,2,3],[8,9,4],[7,6,5]],3))"
   ]
  },
  {
   "cell_type": "code",
   "execution_count": null,
   "id": "7d3cd56b",
   "metadata": {},
   "outputs": [],
   "source": [
    " **Question 8**\n",
    "\n",
    "Given two [sparse matrices](https://en.wikipedia.org/wiki/Sparse_matrix) mat1 of size m x k and mat2 of size k x n, \n",
    "return the result of mat1 x mat2. You may assume that multiplication is always possible.\n",
    "\n",
    "**Example 1:**\n",
    "**Input:** mat1 = [[1,0,0],[-1,0,3]], mat2 = [[7,0,0],[0,0,0],[0,0,1]]\n",
    "\n",
    "**Output:**\n",
    "\n",
    "[[7,0,0],[-7,0,3]]"
   ]
  },
  {
   "cell_type": "code",
   "execution_count": 7,
   "id": "97f3694b",
   "metadata": {},
   "outputs": [
    {
     "name": "stdout",
     "output_type": "stream",
     "text": [
      "[[7, 0, 0], [-7, 0, 3]]\n"
     ]
    }
   ],
   "source": [
    "    def multiply(mat1, mat2):\n",
    "        r1, c1, c2 = len(mat1), len(mat1[0]), len(mat2[0])\n",
    "        res = [[0] * c2 for _ in range(r1)]\n",
    "        for i in range(r1):\n",
    "            for j in range(c2):\n",
    "                for k in range(c1):\n",
    "                    res[i][j] += mat1[i][k] * mat2[k][j]\n",
    "        return res\n",
    "    print(multiply([[1,0,0],[-1,0,3]],[[7,0,0],[0,0,0],[0,0,1]]))"
   ]
  }
 ],
 "metadata": {
  "kernelspec": {
   "display_name": "Python 3 (ipykernel)",
   "language": "python",
   "name": "python3"
  },
  "language_info": {
   "codemirror_mode": {
    "name": "ipython",
    "version": 3
   },
   "file_extension": ".py",
   "mimetype": "text/x-python",
   "name": "python",
   "nbconvert_exporter": "python",
   "pygments_lexer": "ipython3",
   "version": "3.9.12"
  }
 },
 "nbformat": 4,
 "nbformat_minor": 5
}
